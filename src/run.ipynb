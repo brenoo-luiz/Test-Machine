{
 "cells": [
  {
   "cell_type": "code",
   "execution_count": 1,
   "metadata": {},
   "outputs": [],
   "source": [
    "import pandas as pd\n",
    "import numpy as np\n",
    "from sklearn.ensemble import RandomForestClassifier\n",
    "from sklearn.neighbors import KNeighborsClassifier\n",
    "from sklearn.svm import SVC\n",
    "from sklearn.model_selection import train_test_split, GridSearchCV\n",
    "from sklearn.preprocessing import OneHotEncoder, MinMaxScaler\n",
    "from sklearn.metrics import accuracy_score, precision_score, recall_score, f1_score"
   ]
  },
  {
   "cell_type": "code",
   "execution_count": 2,
   "metadata": {},
   "outputs": [],
   "source": [
    "df = pd.read_csv('/home/breno-luiz/Documents/Planilha/Students.csv')"
   ]
  },
  {
   "cell_type": "code",
   "execution_count": 3,
   "metadata": {},
   "outputs": [],
   "source": [
    "X = df.drop(columns=['Depression'])\n",
    "y = df['Depression']"
   ]
  },
  {
   "cell_type": "code",
   "execution_count": 4,
   "metadata": {},
   "outputs": [],
   "source": [
    "X_num = X.select_dtypes(exclude=['object'])\n",
    "X_cat = X.select_dtypes(include=['object'])"
   ]
  },
  {
   "cell_type": "code",
   "execution_count": 5,
   "metadata": {},
   "outputs": [],
   "source": [
    "one_hot_encoder = OneHotEncoder()\n",
    "X_cat_encoded = one_hot_encoder.fit_transform(X_cat).toarray()\n",
    "\n",
    "minmax = MinMaxScaler()\n",
    "X_num_scaled = minmax.fit_transform(X_num)"
   ]
  },
  {
   "cell_type": "code",
   "execution_count": 6,
   "metadata": {},
   "outputs": [],
   "source": [
    "X_all = np.concatenate((X_num_scaled, X_cat_encoded), axis=1)"
   ]
  },
  {
   "cell_type": "code",
   "execution_count": 7,
   "metadata": {},
   "outputs": [],
   "source": [
    "X_train, X_test, y_train, y_test = train_test_split(X_all, y, test_size=2/3, random_state=1)"
   ]
  },
  {
   "cell_type": "code",
   "execution_count": 8,
   "metadata": {},
   "outputs": [],
   "source": [
    "param_grid_rf = {\n",
    "    'n_estimators': [50, 100, 200, 300, 400, 500],\n",
    "    'max_depth': [None, 10, 20, 30, 40, 50],\n",
    "    'max_leaf_nodes': [None, 10, 20, 30, 40, 50],\n",
    "}\n",
    "\n",
    "param_grid_knn = {\n",
    "    'n_neighbors': [3, 5, 7, 10, 15, 20],\n",
    "    'weights': ['uniform', 'distance']\n",
    "}\n",
    "\n",
    "param_grid_svc = {\n",
    "    'C': [0.1, 1, 10, 100, 1000],\n",
    "    'kernel': ['linear', 'rbf']\n",
    "}"
   ]
  },
  {
   "cell_type": "code",
   "execution_count": 9,
   "metadata": {},
   "outputs": [],
   "source": [
    "grid_rf = GridSearchCV(RandomForestClassifier(), param_grid_rf, cv=5, scoring='accuracy')\n",
    "grid_rf.fit(X_train, y_train)\n",
    "best_rf = grid_rf.best_estimator_\n",
    "\n",
    "grid_knn = GridSearchCV(KNeighborsClassifier(), param_grid_knn, cv=5, scoring='accuracy')\n",
    "grid_knn.fit(X_train, y_train)\n",
    "best_knn = grid_knn.best_estimator_\n",
    "\n",
    "grid_svc = GridSearchCV(SVC(), param_grid_svc, cv=5, scoring='accuracy')\n",
    "grid_svc.fit(X_train, y_train)\n",
    "best_svc = grid_svc.best_estimator_"
   ]
  },
  {
   "cell_type": "code",
   "execution_count": 10,
   "metadata": {},
   "outputs": [
    {
     "name": "stdout",
     "output_type": "stream",
     "text": [
      "Random Forest - Accuracy: 0.8687\n",
      "Random Forest - Precision: 0.8691\n",
      "Random Forest - Recall: 0.8687\n",
      "Random Forest - F1 Score: 0.8686\n",
      "\n",
      "\n",
      "KNN - Accuracy: 0.7821\n",
      "KNN - Precision: 0.7834\n",
      "KNN - Recall: 0.7821\n",
      "KNN - F1 Score: 0.7819\n",
      "\n",
      "\n",
      "SVC - Accuracy: 0.9522\n",
      "SVC - Precision: 0.9528\n",
      "SVC - Recall: 0.9522\n",
      "SVC - F1 Score: 0.9522\n",
      "\n",
      "\n",
      "Best Hyperparameters for Random Forest: {'max_depth': 20, 'max_leaf_nodes': None, 'n_estimators': 400}\n",
      "Best Hyperparameters for KNN: {'n_neighbors': 5, 'weights': 'uniform'}\n",
      "Best Hyperparameters for SVC: {'C': 1, 'kernel': 'linear'}\n"
     ]
    }
   ],
   "source": [
    "models = {'Random Forest': best_rf, 'KNN': best_knn, 'SVC': best_svc}\n",
    "\n",
    "for name, model in models.items():\n",
    "    try:\n",
    "        y_pred = model.predict(X_test)\n",
    "        print(f\"{name} - Accuracy: {accuracy_score(y_test, y_pred):.4f}\")\n",
    "        print(f\"{name} - Precision: {precision_score(y_test, y_pred, average='weighted'):.4f}\")\n",
    "        print(f\"{name} - Recall: {recall_score(y_test, y_pred, average='weighted'):.4f}\")\n",
    "        print(f\"{name} - F1 Score: {f1_score(y_test, y_pred, average='weighted'):.4f}\")\n",
    "        print(\"\\n\")\n",
    "    except Exception as e:\n",
    "        print(f\"Erro ao processar o modelo {name}: {e}\")\n",
    "\n",
    "print(\"Best Hyperparameters for Random Forest:\", grid_rf.best_params_)\n",
    "print(\"Best Hyperparameters for KNN:\", grid_knn.best_params_)\n",
    "print(\"Best Hyperparameters for SVC:\", grid_svc.best_params_)"
   ]
  }
 ],
 "metadata": {
  "kernelspec": {
   "display_name": "venv",
   "language": "python",
   "name": "python3"
  },
  "language_info": {
   "codemirror_mode": {
    "name": "ipython",
    "version": 3
   },
   "file_extension": ".py",
   "mimetype": "text/x-python",
   "name": "python",
   "nbconvert_exporter": "python",
   "pygments_lexer": "ipython3",
   "version": "3.12.3"
  }
 },
 "nbformat": 4,
 "nbformat_minor": 2
}
